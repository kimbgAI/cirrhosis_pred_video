{
 "cells": [
  {
   "cell_type": "markdown",
   "metadata": {
    "vscode": {
     "languageId": "plaintext"
    }
   },
   "source": [
    "# Extract frame"
   ]
  },
  {
   "cell_type": "code",
   "execution_count": 1,
   "metadata": {},
   "outputs": [],
   "source": [
    "import cv2\n",
    "import os\n",
    "\n",
    "\n",
    "def RealFrameCount(video_path):\n",
    "    cap = cv2.VideoCapture(video_path)\n",
    "    f_count = 0\n",
    "    while(cap.isOpened()):\n",
    "        ret, image = cap.read()\n",
    "        if ret:\n",
    "            f_count += 1    \n",
    "        else:\n",
    "            break    \n",
    "    return f_count\n",
    "\n",
    "\n",
    "def ExtractFrameListByInterval(total_frame_count, fps_criteria, real_fps):\n",
    "    interval = int(real_fps/fps_criteria)\n",
    "    return [i for i in range(total_frame_count)][::interval][1:]\n",
    "\n",
    "\n",
    "def GetImageList(video_path , extract_fps=3):\n",
    "\n",
    "    image_list = []\n",
    "    video_info = {'fps':0, 'real_fps':0, 'target_frame_idx':None,}\n",
    "\n",
    "    cap = cv2.VideoCapture(video_path)\n",
    "    fps = cap.get(cv2.CAP_PROP_FPS)  \n",
    "    total_frames = int(cap.get(cv2.CAP_PROP_FRAME_COUNT))  \n",
    "    video_length = total_frames / fps\n",
    "    real_frame_count = RealFrameCount(video_path)\n",
    "    real_fps = real_frame_count / video_length\n",
    "    interval_list = ExtractFrameListByInterval(real_frame_count, fps_criteria=extract_fps, real_fps=real_fps)\n",
    "\n",
    "    video_info['fps'] = fps\n",
    "    video_info['real_fps'] = real_fps\n",
    "    video_info['target_frame_idx'] = interval_list\n",
    "\n",
    "    f_count = 0\n",
    "    while(cap.isOpened()):\n",
    "        ret, image = cap.read()\n",
    "        if ret:\n",
    "            f_count += 1\n",
    "            if f_count in interval_list:\n",
    "                image_list.append(image)\n",
    "                if f_count == interval_list[-1]:\n",
    "                    break\n",
    "        else:\n",
    "            break\n",
    "    \n",
    "    return image_list, video_info"
   ]
  },
  {
   "cell_type": "code",
   "execution_count": 2,
   "metadata": {},
   "outputs": [
    {
     "name": "stdout",
     "output_type": "stream",
     "text": [
      "58\n",
      "{'fps': 59.94005994005994, 'real_fps': 29.773413091126308, 'target_frame_idx': [9, 18, 27, 36, 45, 54, 63, 72, 81, 90, 99, 108, 117, 126, 135, 144, 153, 162, 171, 180, 189, 198, 207, 216, 225, 234, 243, 252, 261, 270, 279, 288, 297, 306, 315, 324, 333, 342, 351, 360, 369, 378, 387, 396, 405, 414, 423, 432, 441, 450, 459, 468, 477, 486, 495, 504, 513, 522]}\n"
     ]
    }
   ],
   "source": [
    "VIDEO_PATH = r\"SampleData\\001_s3_c1.mp4\"\n",
    "\n",
    "image_list, video_info = GetImageList(VIDEO_PATH, extract_fps=3)\n",
    "print(len(image_list))\n",
    "print(video_info)"
   ]
  },
  {
   "cell_type": "markdown",
   "metadata": {},
   "source": [
    "# Inference"
   ]
  },
  {
   "cell_type": "code",
   "execution_count": 3,
   "metadata": {},
   "outputs": [],
   "source": [
    "import glob\n",
    "import monai\n",
    "import torch\n",
    "import albumentations as A\n",
    "import numpy as np \n",
    "\n",
    "def LoadModel(CFG, check_point_path=False):\n",
    "    model = monai.networks.nets.DenseNet121(\n",
    "        spatial_dims=2, \n",
    "        in_channels=CFG.ImgInfo['Channel'],\n",
    "        out_channels=CFG.NumOutputClass,\n",
    "        pretrained=True\n",
    "    )\n",
    "    if check_point_path:\n",
    "        model.load_state_dict(torch.load(check_point_path, map_location=CFG.Device))\n",
    "    return model.eval()\n",
    "\n",
    "\n",
    "def LoadData(CFG, img=None, input_path=None):\n",
    "    \n",
    "    Resize = [A.Resize(CFG.ImgInfo['Size'], CFG.ImgInfo['Size'])]\n",
    "    Normalize = [A.Normalize(mean=CFG.ImgInfo['Mean'], std=CFG.ImgInfo['Std'], max_pixel_value=255.0, p=1.0)]\n",
    "    ValidAugmentationList = Resize + Normalize\n",
    "    valid_aug = A.Compose(ValidAugmentationList, is_check_shapes=False)\n",
    "\n",
    "    if input_path:\n",
    "        img = cv2.cvtColor(cv2.imread(input_path), cv2.COLOR_BGR2RGB)\n",
    "\n",
    "    augmented = valid_aug(image=img)\n",
    "    img = augmented[\"image\"]\n",
    "    img = torch.tensor(img).permute(2,0,1) #[W,H,C] -> [C,W,H]\n",
    "    img = torch.unsqueeze(img, dim=0)\n",
    "    return img\n",
    "\n",
    "\n",
    "def EnsemblePredict(models, input_list, CFG):\n",
    "    preds_by_images = []\n",
    "    preds_by_models = []\n",
    "    with torch.no_grad():\n",
    "        for cnt, model in enumerate(models):\n",
    "            for input in input_list:\n",
    "                outputs = model(input.to(CFG.Device))\n",
    "                outputs = torch.nn.functional.softmax(outputs, dim=-1)\n",
    "                preds_by_images.append(outputs)\n",
    "            ensemble_output_by_images = torch.mean(torch.stack(preds_by_images), dim=0)\n",
    "            ensemble_output_by_images = ensemble_output_by_images.numpy()[0][1]\n",
    "            \n",
    "            pred_binary = np.where(ensemble_output_by_images>=CFG.ModelCutoff[f'{cnt}Fold'], 1, 0)\n",
    "            preds_by_models.append(pred_binary)\n",
    "            \n",
    "        ensemble_output_by_models = np.mean(preds_by_models)\n",
    "    return ensemble_output_by_models"
   ]
  },
  {
   "cell_type": "code",
   "execution_count": 4,
   "metadata": {},
   "outputs": [],
   "source": [
    "class CFG:\n",
    "    Device = torch.device('cuda') if torch.cuda.is_available() else torch.device('cpu')\n",
    "    ImgInfo = {'Size':256, 'Channel':3, 'Mean':0, 'Std':1}\n",
    "    NumOutputClass = 2\n",
    "    ModelCutoff = {'0Fold': 0.4946, '1Fold': 0.6218, '2Fold': 0.4114, '3Fold': 0.6081, '4Fold': 0.3817}\n",
    "    AvgCutoff = np.mean(list(ModelCutoff.values()))"
   ]
  },
  {
   "cell_type": "code",
   "execution_count": 5,
   "metadata": {},
   "outputs": [
    {
     "name": "stdout",
     "output_type": "stream",
     "text": [
      "Loaded model number : 5\n"
     ]
    }
   ],
   "source": [
    "MODEL_ROOT_PATH = r\"Model\"\n",
    "CFG.Device = 'cpu'\n",
    "\n",
    "\n",
    "MODELS = []\n",
    "Model_Path_List = sorted(glob.glob(os.path.join(MODEL_ROOT_PATH, '*.pth')))\n",
    "for Model_Path in Model_Path_List:\n",
    "    MODELS.append(LoadModel(CFG, check_point_path=Model_Path))\n",
    "print('Loaded model number :', len(MODELS))\n"
   ]
  },
  {
   "cell_type": "code",
   "execution_count": 6,
   "metadata": {},
   "outputs": [
    {
     "name": "stdout",
     "output_type": "stream",
     "text": [
      "The probability of it being cirrhosis is 0.00%\n"
     ]
    }
   ],
   "source": [
    "input_list = [LoadData(CFG, img=i) for i in image_list]\n",
    "prob = EnsemblePredict(MODELS, input_list, CFG)\n",
    "print(f\"The probability of it being cirrhosis is {prob*100:.2f}%\")\n"
   ]
  },
  {
   "cell_type": "markdown",
   "metadata": {},
   "source": [
    "# Test in batch"
   ]
  },
  {
   "cell_type": "code",
   "execution_count": 7,
   "metadata": {},
   "outputs": [
    {
     "name": "stdout",
     "output_type": "stream",
     "text": [
      "Loaded model number : 5\n",
      "The probability of it being cirrhosis is 0.00%\n",
      "The probability of it being cirrhosis is 100.00%\n"
     ]
    }
   ],
   "source": [
    "VIDEO_PATH_LIST = [\n",
    "    r\"SampleData\\001_s3_c1.mp4\",\n",
    "    r\"SampleData\\012_s5_c3.mp4\",\n",
    "]\n",
    "\n",
    "\n",
    "class CFG:\n",
    "    Device = torch.device('cuda') if torch.cuda.is_available() else torch.device('cpu')\n",
    "    ImgInfo = {'Size':256, 'Channel':3, 'Mean':0, 'Std':1}\n",
    "    NumOutputClass = 2\n",
    "    ModelCutoff = {'0Fold': 0.4946, '1Fold': 0.6218, '2Fold': 0.4114, '3Fold': 0.6081, '4Fold': 0.3817}\n",
    "    AvgCutoff = np.mean(list(ModelCutoff.values()))\n",
    "\n",
    "MODEL_ROOT_PATH = r\"Model\"\n",
    "CFG.Device = 'cpu'\n",
    "\n",
    "MODELS = []\n",
    "Model_Path_List = sorted(glob.glob(os.path.join(MODEL_ROOT_PATH, '*.pth')))\n",
    "for Model_Path in Model_Path_List:\n",
    "    MODELS.append(LoadModel(CFG, check_point_path=Model_Path))\n",
    "print('Loaded model number :', len(MODELS))\n",
    "\n",
    "\n",
    "for VIDEO_PATH in VIDEO_PATH_LIST:\n",
    "    image_list, video_info = GetImageList(VIDEO_PATH, extract_fps=3)\n",
    "    input_list = [LoadData(CFG, img=i) for i in image_list]\n",
    "    prob = EnsemblePredict(MODELS, input_list, CFG)\n",
    "    print(f\"The probability of it being cirrhosis is {prob*100:.2f}%\")    "
   ]
  },
  {
   "cell_type": "code",
   "execution_count": null,
   "metadata": {},
   "outputs": [],
   "source": []
  }
 ],
 "metadata": {
  "kernelspec": {
   "display_name": "test2",
   "language": "python",
   "name": "python3"
  },
  "language_info": {
   "codemirror_mode": {
    "name": "ipython",
    "version": 3
   },
   "file_extension": ".py",
   "mimetype": "text/x-python",
   "name": "python",
   "nbconvert_exporter": "python",
   "pygments_lexer": "ipython3",
   "version": "3.9.18"
  }
 },
 "nbformat": 4,
 "nbformat_minor": 2
}
